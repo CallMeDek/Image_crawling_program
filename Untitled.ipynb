{
 "cells": [
  {
   "cell_type": "code",
   "execution_count": 1,
   "metadata": {},
   "outputs": [],
   "source": [
    "from apscheduler.schedulers.background import BackgroundScheduler\n",
    "from google_images_download import google_images_download   \n",
    "import datetime\n",
    "import time\n",
    "import os\n",
    "import sys\n",
    "\n",
    "\n",
    "def main():\n",
    "    if os.path.isfile(\"config_file.json\"):\n",
    "        print(\"There's no config_file... Please check.\")\n",
    "        sys.exit(0)\n",
    "\n",
    "    response = google_images_download.googleimagesdownload()   \n",
    "    arguments = {\"config_file\": \"config_file.json\"}   \n",
    "    paths = response.download(arguments)\n",
    "    now = datetime.datetime.now().strftime('%Y-%m-%d %H:%M:%S')\n",
    "    print(\"Done : {0}\".format(now))\n",
    "\n",
    "\n",
    "if __name__ == \"__main__\":\n",
    "    scheduler = BackgroundScheduler()\n",
    "    scheduler.add_job(main, 'interval', seconds=1, start_date=\"2020-03-17 11:05:00\")\n",
    "    scheduler.start()\n",
    "    while True:\n",
    "        time.sleep(0.3)"
   ]
  }
 ],
 "metadata": {
  "kernelspec": {
   "display_name": "Python 3",
   "language": "python",
   "name": "python3"
  },
  "language_info": {
   "codemirror_mode": {
    "name": "ipython",
    "version": 3
   },
   "file_extension": ".py",
   "mimetype": "text/x-python",
   "name": "python",
   "nbconvert_exporter": "python",
   "pygments_lexer": "ipython3",
   "version": "3.8.1"
  }
 },
 "nbformat": 4,
 "nbformat_minor": 4
}
